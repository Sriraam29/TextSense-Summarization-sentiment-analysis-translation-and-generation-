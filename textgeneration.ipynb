{
 "cells": [
  {
   "cell_type": "code",
   "execution_count": 3,
   "metadata": {},
   "outputs": [
    {
     "name": "stderr",
     "output_type": "stream",
     "text": [
      "c:\\Users\\srira\\anaconda3\\envs\\deeplearning\\Lib\\site-packages\\tqdm\\auto.py:21: TqdmWarning: IProgress not found. Please update jupyter and ipywidgets. See https://ipywidgets.readthedocs.io/en/stable/user_install.html\n",
      "  from .autonotebook import tqdm as notebook_tqdm\n"
     ]
    }
   ],
   "source": [
    "from flask import Flask, render_template, request, jsonify\n",
    "from transformers import pipeline\n",
    "from googletrans import Translator"
   ]
  },
  {
   "cell_type": "code",
   "execution_count": 4,
   "metadata": {},
   "outputs": [],
   "source": [
    "app=Flask(__name__)\n"
   ]
  },
  {
   "cell_type": "markdown",
   "metadata": {},
   "source": []
  },
  {
   "cell_type": "code",
   "execution_count": 5,
   "metadata": {},
   "outputs": [
    {
     "name": "stderr",
     "output_type": "stream",
     "text": [
      "No model was supplied, defaulted to distilbert/distilbert-base-uncased-finetuned-sst-2-english and revision 714eb0f (https://huggingface.co/distilbert/distilbert-base-uncased-finetuned-sst-2-english).\n",
      "Using a pipeline without specifying a model name and revision in production is not recommended.\n"
     ]
    }
   ],
   "source": [
    "summarizer = pipeline(\"summarization\", model=\"facebook/bart-large-cnn\", device=0)\n",
    "text_generator = pipeline(\"text-generation\", model=\"gpt2\", device=0)\n",
    "sentiment_analyser = pipeline(\"sentiment-analysis\", device=0)\n",
    "translator=Translator()"
   ]
  },
  {
   "cell_type": "code",
   "execution_count": 6,
   "metadata": {},
   "outputs": [],
   "source": [
    "@app.route('/')\n",
    "def home():\n",
    "    return render_template('index.html')"
   ]
  },
  {
   "cell_type": "code",
   "execution_count": 7,
   "metadata": {},
   "outputs": [
    {
     "name": "stdout",
     "output_type": "stream",
     "text": [
      " * Serving Flask app '__main__'\n",
      " * Debug mode: on\n"
     ]
    },
    {
     "name": "stderr",
     "output_type": "stream",
     "text": [
      "WARNING: This is a development server. Do not use it in a production deployment. Use a production WSGI server instead.\n",
      " * Running on http://127.0.0.1:5000\n",
      "Press CTRL+C to quit\n",
      " * Restarting with stat\n"
     ]
    },
    {
     "ename": "SystemExit",
     "evalue": "1",
     "output_type": "error",
     "traceback": [
      "An exception has occurred, use %tb to see the full traceback.\n",
      "\u001b[1;31mSystemExit\u001b[0m\u001b[1;31m:\u001b[0m 1\n"
     ]
    },
    {
     "name": "stderr",
     "output_type": "stream",
     "text": [
      "c:\\Users\\srira\\anaconda3\\envs\\deeplearning\\Lib\\site-packages\\IPython\\core\\interactiveshell.py:3585: UserWarning: To exit: use 'exit', 'quit', or Ctrl-D.\n",
      "  warn(\"To exit: use 'exit', 'quit', or Ctrl-D.\", stacklevel=1)\n"
     ]
    }
   ],
   "source": [
    "@app.route('/process', methods=['POST'])\n",
    "def process_text():\n",
    "    # Validate JSON payload\n",
    "    if not request.json:\n",
    "        return jsonify({'error': 'Invalid or missing JSON payload'}), 400\n",
    "\n",
    "    text = request.json.get('text')\n",
    "    operation = request.json.get('operation')\n",
    "\n",
    "    # Validate input text and operation\n",
    "    if not text:\n",
    "        return jsonify({'error': 'Text is required'}), 400\n",
    "    if len(text.strip()) == 0 or len(text) > 1024:\n",
    "        return jsonify({'error': 'Text must be non-empty and max 1024 characters'}), 400\n",
    "    if not operation:\n",
    "        return jsonify({'error': 'Operation is required'}), 400\n",
    "\n",
    "    # Perform requested operation\n",
    "    try:\n",
    "        if operation == 'summarize':\n",
    "            summary = summarizer(text, max_length=130, min_length=30)[0]['summary_text']\n",
    "            return jsonify({'result': summary})\n",
    "        elif operation == 'generate':\n",
    "            generated = text_generator(text, max_length=100)[0]['generated_text']\n",
    "            return jsonify({'result': generated})\n",
    "        elif operation == 'sentiment':\n",
    "            sentiment = sentiment_analyzer(text)[0]\n",
    "            return jsonify({'result': f\"Sentiment: {sentiment['label']}, Score: {sentiment['score']:.2f}\"})\n",
    "        elif operation == 'translate':\n",
    "            translated = translator.translate(text, dest='en')\n",
    "            return jsonify({'result': translated.text})\n",
    "        else:\n",
    "            return jsonify({'error': 'Invalid operation'}), 400\n",
    "    except Exception as e:\n",
    "        return jsonify({'error': str(e)}), 500\n",
    "\n",
    "if __name__ == '__main__':\n",
    "    app.run(debug=True)"
   ]
  }
 ],
 "metadata": {
  "kernelspec": {
   "display_name": "deeplearning",
   "language": "python",
   "name": "python3"
  },
  "language_info": {
   "codemirror_mode": {
    "name": "ipython",
    "version": 3
   },
   "file_extension": ".py",
   "mimetype": "text/x-python",
   "name": "python",
   "nbconvert_exporter": "python",
   "pygments_lexer": "ipython3",
   "version": "3.12.3"
  }
 },
 "nbformat": 4,
 "nbformat_minor": 2
}
